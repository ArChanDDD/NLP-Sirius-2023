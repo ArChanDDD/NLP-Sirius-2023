{
  "nbformat": 4,
  "nbformat_minor": 0,
  "metadata": {
    "colab": {
      "provenance": []
    },
    "kernelspec": {
      "name": "python3",
      "display_name": "Python 3"
    },
    "language_info": {
      "name": "python"
    }
  },
  "cells": [
    {
      "cell_type": "code",
      "execution_count": null,
      "metadata": {
        "id": "Z6SBAcqwdvrV"
      },
      "outputs": [],
      "source": [
        "import numpy as np\n",
        "from tensorflow import keras\n",
        "from tensorflow.keras import layers"
      ]
    },
    {
      "cell_type": "markdown",
      "source": [
        "##Анализ тональности отзвов с IMDb"
      ],
      "metadata": {
        "id": "XAvaYjnXfCNE"
      }
    },
    {
      "cell_type": "code",
      "source": [
        "max_features = 20000  # Рассмотрим только самые популярные 20к слов\n",
        "maxlen = 200  # Для каждого отзыва фильма рассмотрим только первые 200 его слов"
      ],
      "metadata": {
        "id": "SgSekCU5fRnS"
      },
      "execution_count": null,
      "outputs": []
    },
    {
      "cell_type": "markdown",
      "source": [
        "# Кофигурация модели"
      ],
      "metadata": {
        "id": "GZlkiWnagqbi"
      }
    },
    {
      "cell_type": "code",
      "source": [
        "# Вход для последовательностей чисел разной длины\n",
        "inputs = keras.Input(shape=(None,), dtype=\"int32\")\n",
        "# Сделаем эмбеддинг для каждого числа -- вектор размера 128 \n",
        "x = layers.Embedding(max_features, 128)(inputs)\n",
        "# Добавим двухстороннbt LSTM\n",
        "x = layers.Bidirectional(layers.LSTM(64, return_sequences=True))(x)\n",
        "x = layers.Bidirectional(layers.LSTM(64))(x)\n",
        "# Добавим классификатор\n",
        "outputs = layers.Dense(1, activation=\"sigmoid\")(x)\n",
        "model = keras.Model(inputs, outputs)\n",
        "model.summary()"
      ],
      "metadata": {
        "id": "eTjf3J9Kd7Al"
      },
      "execution_count": null,
      "outputs": []
    },
    {
      "cell_type": "markdown",
      "source": [
        "# Загрузим датасет для анализа тональности отзывов с IMDb"
      ],
      "metadata": {
        "id": "MNf9A2ZtgzQR"
      }
    },
    {
      "cell_type": "code",
      "source": [
        "(x_train, y_train), (x_val, y_val) = keras.datasets.imdb.load_data(\n",
        "    num_words=max_features\n",
        ")\n",
        "print(len(x_train), \"Training sequences\")\n",
        "print(len(x_val), \"Validation sequences\")\n",
        "x_train = keras.preprocessing.sequence.pad_sequences(x_train, maxlen=maxlen)\n",
        "x_val = keras.preprocessing.sequence.pad_sequences(x_val, maxlen=maxlen)"
      ],
      "metadata": {
        "id": "M6LkuBTId95g"
      },
      "execution_count": null,
      "outputs": []
    },
    {
      "cell_type": "markdown",
      "source": [
        "# Обучение модели"
      ],
      "metadata": {
        "id": "Y7F4DrClhGyR"
      }
    },
    {
      "cell_type": "code",
      "source": [
        "from livelossplot import PlotLossesKeras"
      ],
      "metadata": {
        "id": "b7e2RphfhcM1"
      },
      "execution_count": null,
      "outputs": []
    },
    {
      "cell_type": "code",
      "source": [
        "model.compile(\"adam\", \"binary_crossentropy\", metrics=[\"accuracy\"])\n",
        "model.fit(x_train, y_train, batch_size=1024, epochs=1, validation_data=(x_val, y_val))"
      ],
      "metadata": {
        "id": "3_b34kGVeEWn"
      },
      "execution_count": null,
      "outputs": []
    },
    {
      "cell_type": "markdown",
      "source": [
        "# Теперь попробуйте поменять модель и увеличить accuracy на валидации."
      ],
      "metadata": {
        "id": "2jM35381ithh"
      }
    },
    {
      "cell_type": "code",
      "source": [
        "#TODO:\n",
        "<A WHOLE LOT OF YOUR CODE>"
      ],
      "metadata": {
        "id": "RNEpy7z2i7QL"
      },
      "execution_count": null,
      "outputs": []
    }
  ]
}