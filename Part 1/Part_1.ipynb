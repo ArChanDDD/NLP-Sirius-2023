{
  "cells": [
    {
      "cell_type": "markdown",
      "metadata": {
        "id": "HVjCoEKuM6QW"
      },
      "source": [
        "# Part 1\n",
        "\n",
        "Цель сегодняшней практики - познакомиться с основными понятиями, такими как:\n",
        "\n",
        "* tokenizer\n",
        "* Word embedding\n",
        "* word2vec\n",
        "\n",
        "А так же, мы постараемся понять, зачем оно вообще нужно."
      ]
    },
    {
      "cell_type": "markdown",
      "metadata": {
        "id": "Da7wUDLLNtAp"
      },
      "source": [
        "Для наглядности поиграемся с любимым всеми переводом Гарри Поттера от Спивак!"
      ]
    },
    {
      "cell_type": "code",
      "execution_count": null,
      "metadata": {
        "id": "6mVQeh9SOdRR"
      },
      "outputs": [],
      "source": [
        "import numpy as np\n",
        "\n",
        "with open('garri-potter.txt', 'r') as f:\n",
        "  full_text = f.read()\n",
        "\n",
        "print(full_text[:55])"
      ]
    },
    {
      "cell_type": "markdown",
      "metadata": {
        "id": "VX6bddfNgv-e"
      },
      "source": [
        "Для начала было бы славно понять, с чем мы вообще работаем. Вот фрагмент текста:"
      ]
    },
    {
      "cell_type": "code",
      "execution_count": null,
      "metadata": {
        "id": "oxGdKczog3-I"
      },
      "outputs": [],
      "source": [
        "print(full_text[167:970])"
      ]
    },
    {
      "cell_type": "code",
      "execution_count": null,
      "metadata": {
        "id": "piqhFkMN3FX3"
      },
      "outputs": [],
      "source": [
        "full_text = full_text[167:].replace('\\xa0', ' ')"
      ]
    },
    {
      "cell_type": "markdown",
      "metadata": {
        "id": "8S9SXkQYfxey"
      },
      "source": [
        "## Посмотрим на текст пристально\n",
        "\n",
        "> *Первое правило NLP клуба - узнай врага в лицо.* \n",
        ">\n",
        "> © Неизвестный мыслитель\n",
        "\n",
        "Как и Неизвестный мыслитель, давайте тоже заедем хорошую привычку - прежде чем **что-либо** делать, мы будем смотреть на данные."
      ]
    },
    {
      "cell_type": "code",
      "execution_count": null,
      "metadata": {
        "id": "Cd34ozy5f8vg"
      },
      "outputs": [],
      "source": [
        "from wordcloud import WordCloud\n",
        "import matplotlib.pyplot as plt # plots"
      ]
    },
    {
      "cell_type": "code",
      "execution_count": null,
      "metadata": {
        "id": "pYo4c5_ve857"
      },
      "outputs": [],
      "source": [
        "word_cloud = WordCloud(width=600,height=400,\n",
        "                       max_words=150, background_color=\"white\",\n",
        "                       collocations=False).generate(full_text)"
      ]
    },
    {
      "cell_type": "code",
      "execution_count": null,
      "metadata": {
        "id": "zTCkiya0fIRo"
      },
      "outputs": [],
      "source": [
        "plt.figure(figsize=(12,10));\n",
        "plt.imshow(word_cloud, interpolation='bilinear');\n",
        "plt.axis('off');"
      ]
    },
    {
      "cell_type": "markdown",
      "metadata": {
        "id": "8lum-wKRgE0w"
      },
      "source": [
        "Не особо информативно, не так ли? Давайте уберем часто встречаемые предлоги, союзы и прочее.\n",
        "\n",
        "Кстати говоря, это носит название `stopwords`"
      ]
    },
    {
      "cell_type": "code",
      "execution_count": null,
      "metadata": {
        "id": "p3TaQQSXgMq4"
      },
      "outputs": [],
      "source": [
        "from nltk.corpus import stopwords\n",
        "import nltk\n",
        "\n",
        "nltk.download('stopwords')\n",
        "\n",
        "russian_stopwords = stopwords.words(\"russian\")\n",
        "\n",
        "russian_stopwords[:13]"
      ]
    },
    {
      "cell_type": "code",
      "execution_count": null,
      "metadata": {
        "id": "J4ZMldxdgc55"
      },
      "outputs": [],
      "source": [
        "word_cloud = WordCloud(width=600,height=400, stopwords=russian_stopwords,\n",
        "                       max_words=150, background_color=\"white\",\n",
        "                       collocations=False).generate(full_text)"
      ]
    },
    {
      "cell_type": "code",
      "execution_count": null,
      "metadata": {
        "id": "IfaB-tmzhHGd"
      },
      "outputs": [],
      "source": [
        "plt.figure(figsize=(12,10));\n",
        "plt.imshow(word_cloud, interpolation='bilinear');\n",
        "plt.axis('off');"
      ]
    },
    {
      "cell_type": "markdown",
      "metadata": {
        "id": "qFZb8lLsjLax"
      },
      "source": [
        "Всё ещё не очень хорошо. Что можно сделать ещё?"
      ]
    },
    {
      "cell_type": "code",
      "execution_count": null,
      "metadata": {
        "id": "-VU0cv-XjJ14"
      },
      "outputs": [],
      "source": [
        "russian_stopwords.append('это')\n",
        "full_text = full_text.replace('ё', 'е')"
      ]
    },
    {
      "cell_type": "code",
      "execution_count": null,
      "metadata": {
        "id": "uOBuSrV6jaUY"
      },
      "outputs": [],
      "source": [
        "word_cloud = WordCloud(width=600,height=400, stopwords=russian_stopwords,\n",
        "                       max_words=150, background_color=\"white\",\n",
        "                       collocations=False).generate(full_text)"
      ]
    },
    {
      "cell_type": "code",
      "execution_count": null,
      "metadata": {
        "id": "11RooD4gjaxW"
      },
      "outputs": [],
      "source": [
        "plt.figure(figsize=(12,10));\n",
        "plt.imshow(word_cloud, interpolation='bilinear');\n",
        "plt.axis('off');"
      ]
    },
    {
      "cell_type": "markdown",
      "metadata": {
        "id": "2X5gyj-5jdHo"
      },
      "source": [
        "## Tokenizer\n",
        "\n",
        "Начнем разговор с одного из базовых механизмов NLP - поговорим про `tokenizer`. \n",
        "\n",
        "Почти для любой задачи нужно вначале разбить предложение на слова. Простой `str.split()` использовать не получится -- нам важна пунктуация, смайлики и всё такое.\n",
        "\n",
        "Например, есть два предложения: \n",
        "\n",
        "`Привет, Антон, как у тебя дела? Чем собираешься заняться сегодня вечером 👉👈😳?`\n",
        "\n",
        "Надо привести их в вид с которым дальше будет удобно работать:\n",
        "\n",
        "`Привет , Антон , как у тебя дела ? Чем собираешься заняться сегодня вечером 👉👈😳? `\n",
        "\n",
        "Вот теперь можно использовать `.split()`, однако токенайзеры и так обычно возвращают список слов. \n",
        "\n",
        "Мы будем использовать __`nltk`__ -- библиотеку, которая умеет делать многие nlp задачи, такие как токенизация, выделение частей речи и прочие."
      ]
    },
    {
      "cell_type": "code",
      "execution_count": null,
      "metadata": {
        "id": "lYVEzX6V8bbQ"
      },
      "outputs": [],
      "source": [
        "from nltk.tokenize import WordPunctTokenizer\n",
        "tokenizer = WordPunctTokenizer()\n",
        "\n",
        "print(tokenizer.tokenize('Привет, Антон, как у тебя дела? Чем собираешься заняться сегодня вечером 👉👈😳?'))"
      ]
    },
    {
      "cell_type": "markdown",
      "metadata": {
        "id": "W0xDZr-ox1nj"
      },
      "source": [
        "Теперь мы можем разделить стандартные предложения на токены - а значит можем приступать к следующему шагу!"
      ]
    },
    {
      "cell_type": "markdown",
      "metadata": {
        "id": "pwSw7AhDyjW-"
      },
      "source": [
        "## Word Embedding"
      ]
    },
    {
      "cell_type": "markdown",
      "metadata": {
        "id": "N2ZavjZCytC3"
      },
      "source": [
        "Как мы помним, произведя некоторые умные действия, можно сопоставить каждому слову некоторый вектор из `n` чисел так, что у каждого слова будет уникальный вектор. \n",
        "\n",
        "Зачем это делать? Все просто - с числами, и даже с векторами чисел работать куда проще, чем со словами.\n",
        "\n",
        "Поскольку для любой модели важен контекст, нужно как-то его предоставить. Очень круто, если моделька поймет, что речь идет о Гарри Поттере, но... скорее всего она не поймет. Не сейчас :)\n",
        "\n",
        "Поэтому давайте дадим ей возможность научиться правильно понимать предложения - а значит и контекст будем давать в предложениях."
      ]
    },
    {
      "cell_type": "markdown",
      "metadata": {
        "id": "WhXE3Jok1O00"
      },
      "source": [
        "Итак, наша цель - получить текст, разбитый на предложения. Давайте сделаем это!"
      ]
    },
    {
      "cell_type": "code",
      "execution_count": null,
      "metadata": {
        "id": "-a-Gb9tvXB5w"
      },
      "outputs": [],
      "source": [
        "# Необходимо записать в переменную sentences все предложения из full_text\n",
        "# Для этого давайте считать, что помимо стандартных способо разделения предложений (включая …), \n",
        "# они могут быть разделены символом '\\n' - это символ переноса строки.\n",
        "# TODO\n",
        "sentences = ..."
      ]
    },
    {
      "cell_type": "code",
      "execution_count": null,
      "metadata": {
        "id": "tA5x-lXmeeRZ"
      },
      "outputs": [],
      "source": [
        "assert len(sentences) == 7726, 'Неправильное общее количество предложений'\n",
        "assert sentences[150] == ' Вместо этого он сказал самым обычным тоном, каким смог:', 'Неправильно делятся предложения'\n",
        "assert len(tokenizer.tokenize(sentences[106])) == 25, 'Неправильно работает tokenize'"
      ]
    },
    {
      "cell_type": "markdown",
      "metadata": {
        "id": "ht3-CaeZiLh7"
      },
      "source": [
        "Итак, почти все готово, чтобы векторизовать текст. Поэтому, почему бы не приступить?"
      ]
    },
    {
      "cell_type": "markdown",
      "metadata": {
        "id": "CYaH93Syif-7"
      },
      "source": [
        "## word2vec\n",
        "\n",
        "Отличная документация(статья на хабре) про [word2vec](https://habr.com/ru/post/446530/), вдруг интересно будет :)\n",
        "\n",
        "На самом деле, все нужные преобразования делает питон, а точнее некоторые библиотеки. Наш план такой:\n",
        "\n",
        "1. Необходимо токенизировать каждое из предложений, (Почему? Ответ в предыдущем пункте)\n",
        "\n",
        " Как итог, у вас получится \"список списков токенов\" - именно он нам будет нужен, чтобы работать с `word2vec` моделью.\n",
        "\n",
        " **Учтите, что предложения, которые \"обнулятся\" после токенизации, нам не нужны.**\n",
        "\n",
        "2. Теперь нам понадобится Word2Vec из библиотеки gensim (импорты уже настроены) - почитайте о методах ее работы [тут](https://radimrehurek.com/gensim/models/word2vec.html). Нам потребуется модель, которая каждому слову сопоставляет вектор длины `2`.\n",
        "\n",
        " p.s. вам достаточно пункта `Usage examples`\n",
        "\n",
        "3. Визуализируем полученные данные. Для этого нужно создать матрицу размера `(len(words), 2)` - `i` строка задает вектор для `i` слова из списка `words`. После этого, для грамотного отображения, нужен следующий трюк - нормализация. Для этого:\n",
        " \n",
        " 1. Вычтите из каждого значения среднее значение по столбцу (то есть из каждого `x` вычтите среднее всех `x`).\n",
        " 2. Поделите каждое значение на `std` (стандартное отклонение - есть в numpy) этого столбца. "
      ]
    },
    {
      "cell_type": "markdown",
      "metadata": {
        "id": "fFsxCXPHkFf4"
      },
      "source": [
        "### 1 - Токенизация предложений"
      ]
    },
    {
      "cell_type": "code",
      "execution_count": null,
      "metadata": {
        "id": "8tFqqP5BkHa0"
      },
      "outputs": [],
      "source": [
        "# TODO\n",
        "\n",
        "prepared_text = ..."
      ]
    },
    {
      "cell_type": "code",
      "execution_count": null,
      "metadata": {
        "id": "PBeC_tDqkxhI"
      },
      "outputs": [],
      "source": [
        "assert type(prepared_text[0]) == list, 'Токинизация отсутствует'\n",
        "assert len(prepared_text) == 7726, 'Не убраны \"пустые\" предложения'"
      ]
    },
    {
      "cell_type": "markdown",
      "metadata": {
        "id": "XP87GZBglUyY"
      },
      "source": [
        "### 2 - word2vec"
      ]
    },
    {
      "cell_type": "code",
      "execution_count": null,
      "metadata": {
        "id": "R4eSJb0FLqKj"
      },
      "outputs": [],
      "source": [
        "from gensim.test.utils import common_texts\n",
        "from gensim.models import Word2Vec\n",
        "\n",
        "# TODO\n",
        "model = ..."
      ]
    },
    {
      "cell_type": "code",
      "execution_count": null,
      "metadata": {
        "id": "WfpS4cBkSw20"
      },
      "outputs": [],
      "source": [
        "model.wv.get_vector('гарри')"
      ]
    },
    {
      "cell_type": "code",
      "execution_count": null,
      "metadata": {
        "id": "LmIDBpAkS__O"
      },
      "outputs": [],
      "source": [
        "model.wv.most_similar('гарри')"
      ]
    },
    {
      "cell_type": "code",
      "execution_count": null,
      "metadata": {
        "id": "hpJTDQ3zaV85"
      },
      "outputs": [],
      "source": [
        "words = list(model.wv.vocab)\n",
        "\n",
        "assert len(words) == 1873, 'Неправильное общее количество слов'"
      ]
    },
    {
      "cell_type": "markdown",
      "metadata": {
        "id": "zHfQqOk-e0Xs"
      },
      "source": [
        "### 3 - визуализация"
      ]
    },
    {
      "cell_type": "code",
      "execution_count": null,
      "metadata": {
        "id": "tYc5RPB2okok"
      },
      "outputs": [],
      "source": [
        "# TODO\n",
        "\n",
        "def normalize_matrix(matrix):\n",
        "  #TODO\n",
        "  return new_matrix\n",
        "\n",
        "\n",
        "words_matrix = normalize_matrix(...)"
      ]
    },
    {
      "cell_type": "code",
      "execution_count": null,
      "metadata": {
        "id": "Ms7hgUM_pleC"
      },
      "outputs": [],
      "source": [
        "assert words_matrix.shape == (len(words), 2)\n",
        "assert max(abs(words_matrix.mean(0))) < 1e-5, \"points must be zero-centered\"\n",
        "assert max(abs(1.0 - words_matrix.std(0))) < 1e-2, \"points must have unit variance\""
      ]
    },
    {
      "cell_type": "code",
      "execution_count": null,
      "metadata": {
        "id": "1ticcDcFn26S"
      },
      "outputs": [],
      "source": [
        "import bokeh.models as bm, bokeh.plotting as pl\n",
        "from bokeh.io import output_notebook\n",
        "output_notebook()\n",
        "\n",
        "def draw_vectors(x, y, radius=10, alpha=0.25, color='blue',\n",
        "                 width=600, height=400, show=True, **kwargs):\n",
        "    \"\"\" draws an interactive plot for data points with auxilirary info on hover \"\"\"\n",
        "    if isinstance(color, str): color = [color] * len(x)\n",
        "    data_source = bm.ColumnDataSource({ 'x' : x, 'y' : y, 'color': color, **kwargs })\n",
        "\n",
        "    fig = pl.figure(active_scroll='wheel_zoom', width=width, height=height)\n",
        "    fig.scatter('x', 'y', size=radius, color='color', alpha=alpha, source=data_source)\n",
        "\n",
        "    fig.add_tools(bm.HoverTool(tooltips=[(key, \"@\" + key) for key in kwargs.keys()]))\n",
        "    if show: pl.show(fig)\n",
        "    return fig"
      ]
    },
    {
      "cell_type": "code",
      "execution_count": null,
      "metadata": {
        "id": "rNZ9PZHQpuer"
      },
      "outputs": [],
      "source": [
        "draw_vectors(words_matrix[:, 0], words_matrix[:, 1], token=words)"
      ]
    },
    {
      "cell_type": "markdown",
      "metadata": {
        "id": "NR3IgQ6ZsGsv"
      },
      "source": [
        "Интересно, неправда ли? \n",
        "\n",
        "Отлично видно выброс - токен `*`, с ним даже вопросов нет. Но почему все остальные токены оказались так близки друг к другу?"
      ]
    },
    {
      "cell_type": "markdown",
      "metadata": {
        "id": "hsiYOBq2y5fk"
      },
      "source": [
        "\\# Может, несколько мыслей?\n",
        "\n",
        "\\# TODO"
      ]
    },
    {
      "cell_type": "markdown",
      "metadata": {
        "id": "C-36_AJEyu6p"
      },
      "source": [
        "### Пример получше\n",
        "\n",
        "Нетрудно понять, что с нашим датасетом тут делать нечего - надо смотреть на что-то более практически применимое.\n",
        "\n",
        "Посмотрим на датасет сообщений из твиттера:"
      ]
    },
    {
      "cell_type": "code",
      "execution_count": null,
      "metadata": {
        "id": "cz9Nw4VhEKlz"
      },
      "outputs": [],
      "source": [
        "import gensim.downloader as api\n",
        "model2 = api.load('glove-twitter-100')"
      ]
    },
    {
      "cell_type": "code",
      "execution_count": null,
      "metadata": {
        "id": "2TM-pj4zWg1i"
      },
      "outputs": [],
      "source": [
        "model2.most_similar(positive=[\"coder\", \"money\"], negative=[\"brain\"])"
      ]
    },
    {
      "cell_type": "code",
      "execution_count": null,
      "metadata": {
        "id": "E34Zt5v6Z2-i"
      },
      "outputs": [],
      "source": [
        "words = sorted(model2.vocab.keys(), \n",
        "               key=lambda word: model2.vocab[word].count,\n",
        "               reverse=True)[:1000]\n",
        "\n",
        "print(words[::100])"
      ]
    },
    {
      "cell_type": "code",
      "execution_count": null,
      "metadata": {
        "id": "nPzMKyAaZ3NN"
      },
      "outputs": [],
      "source": [
        "word_vectors = np.array([model2.get_vector(x) for x in words])"
      ]
    },
    {
      "cell_type": "code",
      "execution_count": null,
      "metadata": {
        "id": "H_wtsAd_Z_Aj"
      },
      "outputs": [],
      "source": [
        "from sklearn.decomposition import PCA\n",
        "\n",
        "words_pca = PCA(n_components=2)\n",
        "word_vectors_pca = words_pca.fit_transform(word_vectors)\n",
        "\n",
        "word_vectors_pca = (word_vectors_pca - word_vectors_pca.mean(0)) / word_vectors_pca.std(0)"
      ]
    },
    {
      "cell_type": "code",
      "execution_count": null,
      "metadata": {
        "id": "AF3mq2G6aFuc"
      },
      "outputs": [],
      "source": [
        "import bokeh.models as bm, bokeh.plotting as pl\n",
        "from bokeh.io import output_notebook\n",
        "output_notebook()\n",
        "\n",
        "def draw_vectors(x, y, radius=10, alpha=0.25, color='blue',\n",
        "                 width=600, height=400, show=True, **kwargs):\n",
        "    \"\"\" draws an interactive plot for data points with auxilirary info on hover \"\"\"\n",
        "    if isinstance(color, str): color = [color] * len(x)\n",
        "    data_source = bm.ColumnDataSource({ 'x' : x, 'y' : y, 'color': color, **kwargs })\n",
        "\n",
        "    fig = pl.figure(active_scroll='wheel_zoom', width=width, height=height)\n",
        "    fig.scatter('x', 'y', size=radius, color='color', alpha=alpha, source=data_source)\n",
        "\n",
        "    fig.add_tools(bm.HoverTool(tooltips=[(key, \"@\" + key) for key in kwargs.keys()]))\n",
        "    if show: pl.show(fig)\n",
        "    return fig"
      ]
    },
    {
      "cell_type": "code",
      "execution_count": null,
      "metadata": {
        "id": "yBr8D4zGaQBj"
      },
      "outputs": [],
      "source": [
        "draw_vectors(word_vectors_pca[:, 0], word_vectors_pca[:, 1], token=words)"
      ]
    },
    {
      "cell_type": "markdown",
      "metadata": {
        "id": "subp5J_vzVX2"
      },
      "source": [
        "Тут уже дела обстоят куда лучше (хоть с первого взгляда и не скажешь). "
      ]
    },
    {
      "cell_type": "markdown",
      "source": [
        "## Extra\n",
        "\n",
        "Раз уж мы разобрались, какой датасет нужен, посмотрели даже на хороший датасет, и эмбеддинги, полученные на его основе, давайте займемся чем-то более интересным.\n",
        "\n",
        "Например, на основе `model2` научимся определять пол для имен на русском языке (да-да, там есть слова на русском)."
      ],
      "metadata": {
        "id": "9TChowIsFCAV"
      }
    },
    {
      "cell_type": "code",
      "source": [
        "model2.wv.most_similar('привет')"
      ],
      "metadata": {
        "id": "qvctH__tBgGG"
      },
      "execution_count": null,
      "outputs": []
    },
    {
      "cell_type": "code",
      "source": [
        "import pandas as pd\n",
        "\n",
        "df = pd.read_csv('names.csv')\n",
        "\n",
        "df.head()"
      ],
      "metadata": {
        "id": "eT5ThSE1BgfI"
      },
      "execution_count": null,
      "outputs": []
    },
    {
      "cell_type": "markdown",
      "source": [
        "Задача следующая - для каждого слова из `df` нужно определить его вектор в `model2` (если он есть), а потом обучить на этих векторах классификатор (или что-то другое). Как итог - он должен предсказывать пол человека по имени.\n",
        "\n",
        "*hint*: для начала ознакомьтесь с [LogisticRegression](https://scikit-learn.org/stable/modules/generated/sklearn.linear_model.LogisticRegression.html)\n",
        "\n",
        "*hint2*: если очень хочется разобраться, но не получается - смело пишите преподавателям!"
      ],
      "metadata": {
        "id": "-Yh1DQ6EGtVq"
      }
    },
    {
      "cell_type": "code",
      "source": [],
      "metadata": {
        "id": "3-zUP4zYGlyc"
      },
      "execution_count": null,
      "outputs": []
    }
  ],
  "metadata": {
    "colab": {
      "provenance": []
    },
    "gpuClass": "standard",
    "kernelspec": {
      "display_name": "Python 3",
      "name": "python3"
    },
    "language_info": {
      "name": "python"
    }
  },
  "nbformat": 4,
  "nbformat_minor": 0
}